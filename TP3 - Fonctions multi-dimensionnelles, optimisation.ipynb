{
 "cells": [
  {
   "cell_type": "markdown",
   "metadata": {},
   "source": [
    "# TP3: Fonctions multi-dimensionnelles, optimisation, dichotomie\n",
    "\n",
    "L'objectif de ce TP est d'appliquer ce que vous avez vu en cours sur les fonctions multi-dimensionnelles. En particulier, implémenter en python, les techniques d'optimisation et de recherche de solution à l'équation $f(\\mathbf(x)=0)$.\n",
    "\n",
    "Dans ce TP nous allons implémenter les méthodes vues en cours pour la recherche de minimum d'une fonction $h(x)$. Cette recherche de minimum peut aussi être vu comme la recherche des zéros de la dérivée, soit la résolution de l'équation $h'(x)=0$."
   ]
  },
  {
   "cell_type": "markdown",
   "metadata": {},
   "source": [
    "### Exercice 1: Matrices définies positives/négatives\n",
    "\n",
    "Nous avons étudié au TD3, les matrices suivantes.\n",
    "Créer deux fonctions Python, itératives et basées sur le calcul des mineurs, permettant de déterminer si une matrice est définie positive ou négative.\n",
    "On ne cherchera pas le cas où une matrice est semie définie.\n",
    "\n",
    "- $A=\\begin{bmatrix}2 & -1\\\\ -1 & 1 \\end{bmatrix}$\n",
    "- $B=\\begin{bmatrix}-2 & 2\\\\ 2 & -4 \\end{bmatrix}$\n",
    "- $C=\\begin{bmatrix}2 & 2 & 1 \\\\ 2 & 3 & 0\\\\ 1 &0 &2 \\end{bmatrix}$\n",
    "- $D=\\begin{bmatrix}1 & 1 &1 \\\\ 1 & 0 & 1\\\\ 1 & 1 &0 \\end{bmatrix}$\n",
    "\n",
    "Vous pourrez utiliser la librairie `numpy.linalg` afin de calculer le déterminant d'une matrice."
   ]
  },
  {
   "cell_type": "code",
   "metadata": {
    "ExecuteTime": {
     "end_time": "2024-10-10T10:30:41.074084Z",
     "start_time": "2024-10-10T10:30:40.861301Z"
    }
   },
   "source": [
    "import numpy as np\n",
    "import numpy.linalg as la\n",
    "np.__version__"
   ],
   "outputs": [
    {
     "data": {
      "text/plain": [
       "'1.26.4'"
      ]
     },
     "execution_count": 1,
     "metadata": {},
     "output_type": "execute_result"
    }
   ],
   "execution_count": 1
  },
  {
   "cell_type": "code",
   "metadata": {
    "ExecuteTime": {
     "end_time": "2024-10-10T10:35:55.779385Z",
     "start_time": "2024-10-10T10:35:55.766369Z"
    }
   },
   "source": [
    "A = np.array([[2, -1],[-1, 1]])\n",
    "B = np.array([[-2, 2],[2, -4]])\n",
    "C = np.array([[2, 2, 1],[2, 3,0],[1, 0, 2]])\n",
    "D = np.array([[1, 1, 1],[1, 0, 1],[1, 1, 0]])\n",
    "print(A)\n",
    "print(B)\n",
    "print(C)\n",
    "print(D)"
   ],
   "outputs": [
    {
     "name": "stdout",
     "output_type": "stream",
     "text": [
      "[[ 2 -1]\n",
      " [-1  1]]\n",
      "[[-2  2]\n",
      " [ 2 -4]]\n",
      "[[2 2 1]\n",
      " [2 3 0]\n",
      " [1 0 2]]\n",
      "[[1 1 1]\n",
      " [1 0 1]\n",
      " [1 1 0]]\n"
     ]
    }
   ],
   "execution_count": 2
  },
  {
   "metadata": {
    "ExecuteTime": {
     "end_time": "2024-10-10T10:58:34.951064Z",
     "start_time": "2024-10-10T10:58:34.941019Z"
    }
   },
   "cell_type": "code",
   "source": [
    "def definiePositiveValeursPropre(m: np.ndarray) -> bool:\n",
    "    return np.all( la.eigvals(m) > 0 )\n",
    "\n",
    "def definiePositiveDeterminant(m: np.ndarray) -> bool:\n",
    "    for i in range(1, m.shape[0]+1):\n",
    "        if la.det(m[:i, :i]) <= 0:\n",
    "            return False\n",
    "    return True\n",
    "    #return np.all( [(la.det(m[:i, :i]) > 0) for i in range(1, m.shape[0]+1)]  )\n",
    "\n",
    "for m in [A, B, C, D]:\n",
    "    print( definiePositiveValeursPropre(m), definiePositiveDeterminant(m))"
   ],
   "outputs": [
    {
     "name": "stdout",
     "output_type": "stream",
     "text": [
      "True True\n",
      "False False\n",
      "True True\n",
      "False False\n"
     ]
    }
   ],
   "execution_count": 22
  },
  {
   "cell_type": "markdown",
   "metadata": {},
   "source": [
    "### Exercice 2: Visualisation\n",
    "\n",
    "Soit la fonction suivante $g(x,y) = \\sin(y) + x^2$.\n",
    "\n",
    "**Q1.** Tracer la surface de cette fonction en vous aidant du code Python vu en cours et rappelé ci-dessous."
   ]
  },
  {
   "cell_type": "code",
   "execution_count": null,
   "metadata": {},
   "outputs": [],
   "source": [
    "import numpy as np\n",
    "import matplotlib.pyplot as plt\n",
    "from mpl_toolkits.mplot3d import Axes3D\n",
    "\n",
    "def f(x,y):\n",
    "    return ...\n",
    "\n",
    "debut = ??\n",
    "fin   = ??\n",
    "N     = ??\n",
    "x = np.linspace(debut, fin, N)\n",
    "y = np.linspace(debut, fin, N)\n",
    "x, y = np.meshgrid(x,y)\n",
    "z = f(x,y)\n",
    "fig = plt.figure()\n",
    "#pour tracer la surface:\n",
    "axes = fig.gca(projection = ’3d’)\n",
    "axes.plot_surface(x, y, z)\n",
    "axes.set_title('z = f(x,y)')\n",
    "#plt.show()"
   ]
  },
  {
   "cell_type": "markdown",
   "metadata": {},
   "source": [
    "**Q2.** A l'aide des CPO et CSO, déterminer analytiquement les minima / maxima de la fonction $g$ si ils existent.\n",
    "\n",
    "Confirmer les valeurs des optima obtenues précédemment en les visualisant sur la surface."
   ]
  },
  {
   "cell_type": "markdown",
   "metadata": {},
   "source": [
    "**Q3.** Tracer des vues en coupes pertinentes afin de voir les optima en 2D.\n",
    "\n",
    "**Q4.** Tracer des isoclines pertinentes de la fonction."
   ]
  },
  {
   "cell_type": "markdown",
   "metadata": {},
   "source": [
    "### Exercice 3: Recherche de zéros - résolution de l'équation f(x)=0\n",
    "\n",
    "Soit la fonction $f$ définie par: $f(x) = \\ln x + x^2$\n",
    "\n",
    "**Q1.** Analyser la fonction $f$\n",
    "- [ ] donner son domaine de définition\n",
    "- [ ] à partir du calcul de sa dérivée, étudier les variations de $f$ (croissante, décroissante)\n",
    "- [ ] admet-elle un minima ?\n",
    "- [ ] donner les limites de $f$ aux bornes de son domaine de définition.\n",
    "- [ ] la fonction s'annule-t-elle sur cet intervalle ?\n",
    "- [ ] déterminer $f(1)$, qu'en concluez-vous ?"
   ]
  },
  {
   "cell_type": "markdown",
   "metadata": {},
   "source": [
    "$D_f = ]0; +\\infty[$\n",
    "\n",
    "$f'(x) = \\dfrac{1+2x^2}{x} > 0$ donc f est strictement croissante\n",
    "\n",
    "$\\lim_{x\\rightarrow 0} = -\\infty$\n",
    "$\\lim_{x\\rightarrow +\\infty} = +\\infty$\n",
    "La fonction admet un minimum sur l'intervalle"
   ]
  },
  {
   "cell_type": "markdown",
   "metadata": {},
   "source": [
    "**Q2.** Représenter la fonction $f$ sur son domaine de définition. On pourra utiliser `N=1000` points. Vous choisirez une borne maximum intéressante pour visualiser le point d'annulation.\n",
    "\n",
    "**Attention** à vérifier que votre fonction logarithme est bien le logarithme népérien"
   ]
  },
  {
   "cell_type": "code",
   "execution_count": null,
   "metadata": {},
   "outputs": [],
   "source": [
    "eps = 1e-6\n",
    "N = 1000\n",
    "def f(x):\n",
    "    return ???"
   ]
  },
  {
   "cell_type": "markdown",
   "metadata": {},
   "source": [
    "Nous avons vu en cours, que la dichotomie permettait de résoudre des équations du type $h(x)=0$ en encadrant la solution par deux valeurs $a$ et $b$ telles que $f(a) \\cdot f(b) \\leq 0$."
   ]
  },
  {
   "cell_type": "markdown",
   "metadata": {},
   "source": [
    "**Q3.** Proposer un programme qui prend en entrée deux réels $a< b$ et une fonction $f$ dont on cherche à déterminer la racine dans l'intervalle $[a,b]$ par dichotomie. Ce programme construit à chaque itération un nouvel intervalle $I_n$ dans lequel se trouve la solution, et une une suite $(x_n)$ qui converge vers la solution.\n",
    "- [ ] penser à intialiser votre intervalle et votre suite\n",
    "- [ ] tester deux approches, la première où l'intervalle $I_n$ est coupé en deux aléatoirement, la seconde où cet intervalle est coupé en sa moitié.\n",
    "- [ ] ajouter une tolérance sur votre racine.\n",
    "- [ ] _bonus_ ajouter un nombre d'itération maximum (pour éviter de tourner en rond...).\n"
   ]
  },
  {
   "cell_type": "markdown",
   "metadata": {},
   "source": [
    "**Q4.** Trouver une (ou plusieurs) solutions approchées de l'équation $f(x)=0$ en utilisant la méthode par dichotomie avec une précision de 0.001\n",
    "- [ ] déterminer théoriquement le nombre d'itérations nécessaires pour obtenir cette précision. Vérifier cette valeur expérimentalement."
   ]
  },
  {
   "cell_type": "code",
   "execution_count": null,
   "metadata": {},
   "outputs": [],
   "source": [
    "#nb d'itérations théorique\n"
   ]
  },
  {
   "cell_type": "markdown",
   "metadata": {},
   "source": [
    "**Q5.** Créer maintenant un programme qui permet d'obtenir la racine grâce à la méthode de la sécante.\n",
    "- [ ] comparer le nombre d'itérations prises avec cette méthode par rapport à la dichotomie."
   ]
  },
  {
   "cell_type": "markdown",
   "metadata": {},
   "source": [
    "**Q6.** Créer maintenant un programme qui permet d'obtenir la racine grâce à la méthode de Newton.\n",
    "- [ ] comparer le nombre d'itérations prises avec cette méthode par rapport aux précédentes."
   ]
  }
 ],
 "metadata": {
  "kernelspec": {
   "display_name": "Python 3 (ipykernel)",
   "language": "python",
   "name": "python3"
  },
  "language_info": {
   "codemirror_mode": {
    "name": "ipython",
    "version": 3
   },
   "file_extension": ".py",
   "mimetype": "text/x-python",
   "name": "python",
   "nbconvert_exporter": "python",
   "pygments_lexer": "ipython3",
   "version": "3.9.7"
  }
 },
 "nbformat": 4,
 "nbformat_minor": 2
}
